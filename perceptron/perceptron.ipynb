{
 "cells": [
  {
   "cell_type": "code",
   "execution_count": 2,
   "id": "b6ba00db",
   "metadata": {},
   "outputs": [
    {
     "name": "stdout",
     "output_type": "stream",
     "text": [
      "--- Data ---\n",
      "Inputs (X):\n",
      " [[0 0]\n",
      " [0 1]\n",
      " [1 0]\n",
      " [1 1]]\n",
      "Correct Outputs (y):\n",
      " [0 1 1 1]\n",
      "dimension of X: (4, 2)\n"
     ]
    }
   ],
   "source": [
    "import numpy as np\n",
    "\n",
    "X = np.array([[0, 0], [0, 1], [1, 0], [1, 1]])\n",
    "y = np.array([0, 1, 1, 1])\n",
    "\n",
    "print(\"--- Data ---\")\n",
    "print(\"Inputs (X):\\n\", X)\n",
    "print(\"Correct Outputs (y):\\n\", y)\n",
    "print(\"dimension of X:\", X.shape)\n",
    "\n"
   ]
  },
  {
   "cell_type": "code",
   "execution_count": 7,
   "id": "93c86e3d",
   "metadata": {},
   "outputs": [
    {
     "name": "stdout",
     "output_type": "stream",
     "text": [
      "--- Initial weights and bias ---\n",
      "Weights: [0. 0.]\n",
      "Bias: 0\n"
     ]
    }
   ],
   "source": [
    "learning_rate = 0.1\n",
    "weights=np.zeros(X.shape[1])\n",
    "bias=0\n",
    "epochs=10\n",
    "print(\"--- Initial weights and bias ---\")\n",
    "print(\"Weights:\", weights)\n",
    "print(\"Bias:\", bias)"
   ]
  },
  {
   "cell_type": "markdown",
   "id": "5d1f4345",
   "metadata": {},
   "source": [
    "#training"
   ]
  },
  {
   "cell_type": "code",
   "execution_count": 8,
   "id": "283188bc",
   "metadata": {},
   "outputs": [
    {
     "name": "stdout",
     "output_type": "stream",
     "text": [
      "--- Final weights and bias ---\n",
      "Weights: [0.1 0.1]\n",
      "Bias: 0.0\n"
     ]
    }
   ],
   "source": [
    "for epoch in range(epochs):\n",
    "    for i, x in enumerate(X):\n",
    "        y_in= np.dot(x,weights)+bias\n",
    "        #activation function\n",
    "        if y_in>0:\n",
    "            y_out=1\n",
    "        else:\n",
    "            y_out=0\n",
    "        #error\n",
    "        error=y[i]-y_out\n",
    "        #update weights and bias\n",
    "        weights=weights+learning_rate*error*x\n",
    "        bias=bias+learning_rate*error\n",
    "\n",
    "print(\"--- Final weights and bias ---\")\n",
    "print(\"Weights:\", weights)\n",
    "print(\"Bias:\", bias)\n",
    "        "
   ]
  },
  {
   "cell_type": "markdown",
   "id": "94fcb37b",
   "metadata": {},
   "source": [
    "#using the model"
   ]
  },
  {
   "cell_type": "code",
   "execution_count": 12,
   "id": "0929724b",
   "metadata": {},
   "outputs": [
    {
     "name": "stdout",
     "output_type": "stream",
     "text": [
      "--- Testing the model ---\n",
      "Predicted Outputs: 1\n"
     ]
    }
   ],
   "source": [
    "test_input = np.array([1, 1])\n",
    "print(\"--- Testing the model ---\")\n",
    "y_pred=np.dot(test_input,weights)+bias\n",
    "if y_pred>0:\n",
    "    y=1\n",
    "else:\n",
    "    y=0\n",
    "print(\"Predicted Outputs:\", y)\n"
   ]
  },
  {
   "cell_type": "code",
   "execution_count": null,
   "id": "66675d65",
   "metadata": {},
   "outputs": [],
   "source": []
  }
 ],
 "metadata": {
  "kernelspec": {
   "display_name": "venv",
   "language": "python",
   "name": "python3"
  },
  "language_info": {
   "codemirror_mode": {
    "name": "ipython",
    "version": 3
   },
   "file_extension": ".py",
   "mimetype": "text/x-python",
   "name": "python",
   "nbconvert_exporter": "python",
   "pygments_lexer": "ipython3",
   "version": "3.13.7"
  }
 },
 "nbformat": 4,
 "nbformat_minor": 5
}
